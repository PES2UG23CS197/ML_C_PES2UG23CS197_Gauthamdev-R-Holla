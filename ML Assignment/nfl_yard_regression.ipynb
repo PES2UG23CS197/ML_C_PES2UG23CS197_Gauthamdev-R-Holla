{
  "nbformat": 4,
  "nbformat_minor": 0,
  "metadata": {
    "colab": {
      "provenance": []
    },
    "kernelspec": {
      "name": "python3",
      "display_name": "Python 3"
    },
    "language_info": {
      "name": "python"
    }
  },
  "cells": [
    {
      "cell_type": "code",
      "execution_count": 57,
      "metadata": {
        "id": "h4DKoBmtfsGP"
      },
      "outputs": [],
      "source": [
        "!pip install pandas numpy scikit-learn xgboost gradio --quiet\n",
        "\n",
        "import pandas as pd\n",
        "import numpy as np\n",
        "import matplotlib.pyplot as plt\n",
        "import gradio as gr\n",
        "from sklearn.model_selection import train_test_split\n",
        "from sklearn.linear_model import LinearRegression\n",
        "from sklearn.ensemble import RandomForestRegressor\n",
        "from xgboost import XGBRegressor\n",
        "from sklearn.metrics import mean_squared_error, mean_absolute_error, r2_score"
      ]
    },
    {
      "cell_type": "code",
      "source": [
        "from google.colab import files\n",
        "uploaded = files.upload()"
      ],
      "metadata": {
        "colab": {
          "base_uri": "https://localhost:8080/",
          "height": 73
        },
        "id": "vZFI_5HFfwvD",
        "outputId": "d537d1f3-08e7-48c6-a107-b2d27082971d"
      },
      "execution_count": 58,
      "outputs": [
        {
          "output_type": "display_data",
          "data": {
            "text/plain": [
              "<IPython.core.display.HTML object>"
            ],
            "text/html": [
              "\n",
              "     <input type=\"file\" id=\"files-de59b656-878a-407e-aaa9-9ae8999f03c9\" name=\"files[]\" multiple disabled\n",
              "        style=\"border:none\" />\n",
              "     <output id=\"result-de59b656-878a-407e-aaa9-9ae8999f03c9\">\n",
              "      Upload widget is only available when the cell has been executed in the\n",
              "      current browser session. Please rerun this cell to enable.\n",
              "      </output>\n",
              "      <script>// Copyright 2017 Google LLC\n",
              "//\n",
              "// Licensed under the Apache License, Version 2.0 (the \"License\");\n",
              "// you may not use this file except in compliance with the License.\n",
              "// You may obtain a copy of the License at\n",
              "//\n",
              "//      http://www.apache.org/licenses/LICENSE-2.0\n",
              "//\n",
              "// Unless required by applicable law or agreed to in writing, software\n",
              "// distributed under the License is distributed on an \"AS IS\" BASIS,\n",
              "// WITHOUT WARRANTIES OR CONDITIONS OF ANY KIND, either express or implied.\n",
              "// See the License for the specific language governing permissions and\n",
              "// limitations under the License.\n",
              "\n",
              "/**\n",
              " * @fileoverview Helpers for google.colab Python module.\n",
              " */\n",
              "(function(scope) {\n",
              "function span(text, styleAttributes = {}) {\n",
              "  const element = document.createElement('span');\n",
              "  element.textContent = text;\n",
              "  for (const key of Object.keys(styleAttributes)) {\n",
              "    element.style[key] = styleAttributes[key];\n",
              "  }\n",
              "  return element;\n",
              "}\n",
              "\n",
              "// Max number of bytes which will be uploaded at a time.\n",
              "const MAX_PAYLOAD_SIZE = 100 * 1024;\n",
              "\n",
              "function _uploadFiles(inputId, outputId) {\n",
              "  const steps = uploadFilesStep(inputId, outputId);\n",
              "  const outputElement = document.getElementById(outputId);\n",
              "  // Cache steps on the outputElement to make it available for the next call\n",
              "  // to uploadFilesContinue from Python.\n",
              "  outputElement.steps = steps;\n",
              "\n",
              "  return _uploadFilesContinue(outputId);\n",
              "}\n",
              "\n",
              "// This is roughly an async generator (not supported in the browser yet),\n",
              "// where there are multiple asynchronous steps and the Python side is going\n",
              "// to poll for completion of each step.\n",
              "// This uses a Promise to block the python side on completion of each step,\n",
              "// then passes the result of the previous step as the input to the next step.\n",
              "function _uploadFilesContinue(outputId) {\n",
              "  const outputElement = document.getElementById(outputId);\n",
              "  const steps = outputElement.steps;\n",
              "\n",
              "  const next = steps.next(outputElement.lastPromiseValue);\n",
              "  return Promise.resolve(next.value.promise).then((value) => {\n",
              "    // Cache the last promise value to make it available to the next\n",
              "    // step of the generator.\n",
              "    outputElement.lastPromiseValue = value;\n",
              "    return next.value.response;\n",
              "  });\n",
              "}\n",
              "\n",
              "/**\n",
              " * Generator function which is called between each async step of the upload\n",
              " * process.\n",
              " * @param {string} inputId Element ID of the input file picker element.\n",
              " * @param {string} outputId Element ID of the output display.\n",
              " * @return {!Iterable<!Object>} Iterable of next steps.\n",
              " */\n",
              "function* uploadFilesStep(inputId, outputId) {\n",
              "  const inputElement = document.getElementById(inputId);\n",
              "  inputElement.disabled = false;\n",
              "\n",
              "  const outputElement = document.getElementById(outputId);\n",
              "  outputElement.innerHTML = '';\n",
              "\n",
              "  const pickedPromise = new Promise((resolve) => {\n",
              "    inputElement.addEventListener('change', (e) => {\n",
              "      resolve(e.target.files);\n",
              "    });\n",
              "  });\n",
              "\n",
              "  const cancel = document.createElement('button');\n",
              "  inputElement.parentElement.appendChild(cancel);\n",
              "  cancel.textContent = 'Cancel upload';\n",
              "  const cancelPromise = new Promise((resolve) => {\n",
              "    cancel.onclick = () => {\n",
              "      resolve(null);\n",
              "    };\n",
              "  });\n",
              "\n",
              "  // Wait for the user to pick the files.\n",
              "  const files = yield {\n",
              "    promise: Promise.race([pickedPromise, cancelPromise]),\n",
              "    response: {\n",
              "      action: 'starting',\n",
              "    }\n",
              "  };\n",
              "\n",
              "  cancel.remove();\n",
              "\n",
              "  // Disable the input element since further picks are not allowed.\n",
              "  inputElement.disabled = true;\n",
              "\n",
              "  if (!files) {\n",
              "    return {\n",
              "      response: {\n",
              "        action: 'complete',\n",
              "      }\n",
              "    };\n",
              "  }\n",
              "\n",
              "  for (const file of files) {\n",
              "    const li = document.createElement('li');\n",
              "    li.append(span(file.name, {fontWeight: 'bold'}));\n",
              "    li.append(span(\n",
              "        `(${file.type || 'n/a'}) - ${file.size} bytes, ` +\n",
              "        `last modified: ${\n",
              "            file.lastModifiedDate ? file.lastModifiedDate.toLocaleDateString() :\n",
              "                                    'n/a'} - `));\n",
              "    const percent = span('0% done');\n",
              "    li.appendChild(percent);\n",
              "\n",
              "    outputElement.appendChild(li);\n",
              "\n",
              "    const fileDataPromise = new Promise((resolve) => {\n",
              "      const reader = new FileReader();\n",
              "      reader.onload = (e) => {\n",
              "        resolve(e.target.result);\n",
              "      };\n",
              "      reader.readAsArrayBuffer(file);\n",
              "    });\n",
              "    // Wait for the data to be ready.\n",
              "    let fileData = yield {\n",
              "      promise: fileDataPromise,\n",
              "      response: {\n",
              "        action: 'continue',\n",
              "      }\n",
              "    };\n",
              "\n",
              "    // Use a chunked sending to avoid message size limits. See b/62115660.\n",
              "    let position = 0;\n",
              "    do {\n",
              "      const length = Math.min(fileData.byteLength - position, MAX_PAYLOAD_SIZE);\n",
              "      const chunk = new Uint8Array(fileData, position, length);\n",
              "      position += length;\n",
              "\n",
              "      const base64 = btoa(String.fromCharCode.apply(null, chunk));\n",
              "      yield {\n",
              "        response: {\n",
              "          action: 'append',\n",
              "          file: file.name,\n",
              "          data: base64,\n",
              "        },\n",
              "      };\n",
              "\n",
              "      let percentDone = fileData.byteLength === 0 ?\n",
              "          100 :\n",
              "          Math.round((position / fileData.byteLength) * 100);\n",
              "      percent.textContent = `${percentDone}% done`;\n",
              "\n",
              "    } while (position < fileData.byteLength);\n",
              "  }\n",
              "\n",
              "  // All done.\n",
              "  yield {\n",
              "    response: {\n",
              "      action: 'complete',\n",
              "    }\n",
              "  };\n",
              "}\n",
              "\n",
              "scope.google = scope.google || {};\n",
              "scope.google.colab = scope.google.colab || {};\n",
              "scope.google.colab._files = {\n",
              "  _uploadFiles,\n",
              "  _uploadFilesContinue,\n",
              "};\n",
              "})(self);\n",
              "</script> "
            ]
          },
          "metadata": {}
        },
        {
          "output_type": "stream",
          "name": "stdout",
          "text": [
            "Saving train.zip to train (2).zip\n"
          ]
        }
      ]
    },
    {
      "cell_type": "code",
      "source": [
        "# Load dataset\n",
        "df = pd.read_csv(\"train.zip\", compression=\"zip\", low_memory=False)\n",
        "df = df.dropna(subset=[\"Yards\"])\n",
        "\n",
        "# Convert height to inches\n",
        "def convert_height(h):\n",
        "    try:\n",
        "        feet, inches = map(int, h.split('-'))\n",
        "        return feet * 12 + inches\n",
        "    except:\n",
        "        return np.nan\n",
        "\n",
        "df[\"PlayerHeight\"] = df[\"PlayerHeight\"].apply(convert_height)\n",
        "df[\"PlayerBirthDate\"] = pd.to_datetime(df[\"PlayerBirthDate\"], errors='coerce')\n",
        "df[\"Age\"] = df[\"Season\"] - df[\"PlayerBirthDate\"].dt.year\n",
        "\n",
        "# Select relevant columns\n",
        "features = [\n",
        "    \"PlayerHeight\", \"PlayerWeight\", \"Age\", \"Distance\", \"DefendersInTheBox\",\n",
        "    \"StadiumType\", \"Turf\", \"PlayDirection\", \"OffenseFormation\",\n",
        "    \"Temperature\", \"Humidity\", \"WindSpeed\"\n",
        "]\n",
        "\n",
        "df = df[features + [\"Yards\"]].dropna()\n",
        "\n",
        "print(\"Columns:\", df.columns.tolist())"
      ],
      "metadata": {
        "id": "MN-pKTZwfzZr",
        "colab": {
          "base_uri": "https://localhost:8080/"
        },
        "outputId": "f400317a-c98d-4b0f-ba68-b811d8eae111"
      },
      "execution_count": 64,
      "outputs": [
        {
          "output_type": "stream",
          "name": "stdout",
          "text": [
            "Columns: ['PlayerHeight', 'PlayerWeight', 'Age', 'Distance', 'DefendersInTheBox', 'StadiumType', 'Turf', 'PlayDirection', 'OffenseFormation', 'Temperature', 'Humidity', 'WindSpeed', 'Yards']\n"
          ]
        }
      ]
    },
    {
      "cell_type": "code",
      "source": [
        "# Fill missing numeric values\n",
        "df[\"DefendersInTheBox\"] = df[\"DefendersInTheBox\"].fillna(df[\"DefendersInTheBox\"].median())\n",
        "df[\"Temperature\"] = df[\"Temperature\"].fillna(df[\"Temperature\"].median())\n",
        "df[\"Humidity\"] = df[\"Humidity\"].fillna(df[\"Humidity\"].median())\n",
        "\n",
        "# Clean categorical features\n",
        "df[\"StadiumType\"] = df[\"StadiumType\"].fillna(\"Unknown\")\n",
        "df[\"Turf\"] = df[\"Turf\"].fillna(\"Unknown\")\n",
        "\n",
        "def clean_stadium_type(val):\n",
        "    val = str(val).strip().lower()\n",
        "    if \"outdoor\" in val or \"outdoors\" in val: return \"Outdoor\"\n",
        "    elif \"indoor\" in val or \"indoors\" in val or \"dome\" in val: return \"Indoor\"\n",
        "    elif \"retractable\" in val: return \"Retractable\"\n",
        "    elif \"bowl\" in val: return \"Bowl\"\n",
        "    else: return \"Unknown\"\n",
        "\n",
        "def clean_turf(val):\n",
        "    val = str(val).strip().lower()\n",
        "    if \"grass\" in val or \"natural\" in val: return \"Natural Grass\"\n",
        "    elif \"artificial\" in val or \"synthetic\" in val: return \"Artificial\"\n",
        "    elif \"fieldturf\" in val: return \"Field Turf\"\n",
        "    elif \"twenty four/seven\" in val: return \"Twenty Four/Seven Turf\"\n",
        "    else: return \"Unknown\"\n",
        "\n",
        "def clean_play_direction(val):\n",
        "    val = str(val).strip().lower()\n",
        "    if val in [\"left\", \"right\"]: return val.capitalize()\n",
        "    return \"Unknown\"\n",
        "\n",
        "def clean_formation(val):\n",
        "    val = str(val).strip().lower()\n",
        "    if \"shotgun\" in val: return \"Shotgun\"\n",
        "    elif \"i-form\" in val: return \"I-Form\"\n",
        "    elif \"singleback\" in val: return \"Singleback\"\n",
        "    elif \"ace\" in val: return \"Ace\"\n",
        "    elif \"pistol\" in val: return \"Pistol\"\n",
        "    elif \"wildcat\" in val: return \"Wildcat\"\n",
        "    elif \"jumbo\" in val: return \"Jumbo\"\n",
        "    else: return \"Other\"\n",
        "\n",
        "df[\"StadiumType\"] = df[\"StadiumType\"].apply(clean_stadium_type)\n",
        "df[\"Turf\"] = df[\"Turf\"].apply(clean_turf)\n",
        "df[\"PlayDirection\"] = df[\"PlayDirection\"].apply(clean_play_direction)\n",
        "df[\"OffenseFormation\"] = df[\"OffenseFormation\"].apply(clean_formation)\n",
        "\n",
        "print(\"Cleaning done!\")"
      ],
      "metadata": {
        "id": "zXTNorBXgBhi",
        "colab": {
          "base_uri": "https://localhost:8080/"
        },
        "outputId": "4710e4e9-0455-4f2f-9473-a8e9f98065c1"
      },
      "execution_count": 65,
      "outputs": [
        {
          "output_type": "stream",
          "name": "stdout",
          "text": [
            "Cleaning done!\n"
          ]
        }
      ]
    },
    {
      "cell_type": "code",
      "source": [
        "# One-hot encode categorical features\n",
        "categorical = df.select_dtypes(include=\"object\").columns.tolist()\n",
        "df = pd.get_dummies(df, columns=categorical)\n",
        "\n",
        "X = df.drop(columns=[\"Yards\"])\n",
        "y = df[\"Yards\"]"
      ],
      "metadata": {
        "id": "j6wydYBQgE4C"
      },
      "execution_count": 66,
      "outputs": []
    },
    {
      "cell_type": "code",
      "source": [
        "# Train/test split\n",
        "X = df.drop(columns=[\"Yards\"])\n",
        "y = df[\"Yards\"]\n",
        "X_train, X_test, y_train, y_test = train_test_split(X, y, test_size=0.2, random_state=42)\n",
        "\n",
        "# Train models\n",
        "lr = LinearRegression().fit(X_train, y_train)\n",
        "print(\"Linear Regression model trained.\")\n",
        "\n",
        "rf = RandomForestRegressor(n_estimators=100, random_state=42).fit(X_train, y_train)\n",
        "print(\"Random Forest model trained.\")\n",
        "\n",
        "xgb = XGBRegressor(n_estimators=100, random_state=42, verbosity=0).fit(X_train, y_train)\n",
        "print(\"XGBoost model trained.\")"
      ],
      "metadata": {
        "id": "uXFrKwEVgWiH",
        "colab": {
          "base_uri": "https://localhost:8080/"
        },
        "outputId": "248bcb01-223e-4b6e-946f-42c6a8ec897c"
      },
      "execution_count": 67,
      "outputs": [
        {
          "output_type": "stream",
          "name": "stdout",
          "text": [
            "Linear Regression model trained.\n",
            "Random Forest model trained.\n",
            "XGBoost model trained.\n"
          ]
        }
      ]
    },
    {
      "cell_type": "code",
      "source": [
        "# Extract dropdown options from one-hot encoded columns\n",
        "stadium_types = sorted([col.split('_', 1)[1] for col in X.columns if col.startswith(\"StadiumType_\")])\n",
        "turfs = sorted([col.split('_', 1)[1] for col in X.columns if col.startswith(\"Turf_\")])\n",
        "play_directions = sorted([col.split('_', 1)[1] for col in X.columns if col.startswith(\"PlayDirection_\")])\n",
        "formations = sorted([col.split('_', 1)[1] for col in X.columns if col.startswith(\"OffenseFormation_\")])\n",
        "wind_dirs = sorted([col.split('_', 1)[1] for col in X.columns if col.startswith(\"WindDirSimple_\")])\n",
        "\n",
        "# Gradio prediction function\n",
        "def predict_yards(model_name, PlayerHeight, PlayerWeight, Age, Distance, DefendersInTheBox,\n",
        "                  StadiumType, Turf, PlayDirection, FormationType,\n",
        "                  Temperature, Humidity, WindSpeed, WindDirSimple):\n",
        "\n",
        "    input_dict = {\n",
        "        \"PlayerHeight\": convert_height(PlayerHeight),\n",
        "        \"PlayerWeight\": PlayerWeight,\n",
        "        \"Age\": Age,\n",
        "        \"Distance\": Distance,\n",
        "        \"DefendersInTheBox\": DefendersInTheBox,\n",
        "        \"Temperature\": Temperature,\n",
        "        \"Humidity\": Humidity,\n",
        "        \"WindSpeed\": WindSpeed\n",
        "    }\n",
        "\n",
        "    for col in X.columns:\n",
        "        if col not in input_dict:\n",
        "            input_dict[col] = 0\n",
        "\n",
        "    selected_cats = {\n",
        "        \"StadiumType\": StadiumType,\n",
        "        \"Turf\": Turf,\n",
        "        \"PlayDirection\": PlayDirection,\n",
        "        \"OffenseFormation\": FormationType\n",
        "    }\n",
        "\n",
        "    for cat, val in selected_cats.items():\n",
        "        col_name = f\"{cat}_{val}\"\n",
        "        if col_name in X.columns:\n",
        "            input_dict[col_name] = 1\n",
        "\n",
        "    try:\n",
        "        input_df = pd.DataFrame([input_dict])[X.columns]\n",
        "        model = {\"Linear Regression\": lr, \"Random Forest\": rf, \"XGBoost\": xgb}[model_name]\n",
        "        pred = model.predict(input_df)[0]\n",
        "\n",
        "        preds = model.predict(X_test)\n",
        "        rmse = np.sqrt(mean_squared_error(y_test, preds))\n",
        "        mae = mean_absolute_error(y_test, preds)\n",
        "        r2 = r2_score(y_test, preds)\n",
        "        within1 = np.mean(np.abs(y_test - preds) <= 1)\n",
        "        within2 = np.mean(np.abs(y_test - preds) <= 2)\n",
        "        within4 = np.mean(np.abs(y_test - preds) <= 4)\n",
        "\n",
        "        metrics = (\n",
        "            f\"RMSE: {rmse:.2f}\\n\"\n",
        "            f\"MAE: {mae:.2f}\\n\"\n",
        "            f\"R²: {r2:.2f}\\n\\n\"\n",
        "            f\"±1 yd: {within1*100:.1f}%\\n\"\n",
        "            f\"±2 yd: {within2*100:.1f}%\\n\"\n",
        "            f\"±4 yd: {within4*100:.1f}%\"\n",
        "        )\n",
        "\n",
        "        fig1, ax1 = plt.subplots(figsize=(5, 4))\n",
        "        ax1.scatter(y_test, preds, alpha=0.3)\n",
        "        ax1.set_xlabel(\"Actual Yards\")\n",
        "        ax1.set_ylabel(\"Predicted Yards\")\n",
        "        ax1.set_title(f\"{model_name} — Predicted vs Actual\")\n",
        "        plt.tight_layout()\n",
        "\n",
        "        fig2, ax2 = plt.subplots(figsize=(5, 4))\n",
        "        bars = [within1 * 100, within2 * 100, within4 * 100]\n",
        "        labels = [\"±1 yd\", \"±2 yd\", \"±4 yd\"]\n",
        "        ax2.bar(labels, bars, color=\"skyblue\")\n",
        "        ax2.set_ylim(0, 100)\n",
        "        ax2.set_ylabel(\"Accuracy (%)\")\n",
        "        ax2.set_title(f\"{model_name} — Domain Metrics\")\n",
        "        plt.tight_layout()\n",
        "\n",
        "        return round(pred, 2), metrics, fig1, fig2\n",
        "\n",
        "    except Exception as e:\n",
        "        return \"Error\", f\"Prediction failed: {e}\", None, None\n",
        "\n",
        "# Launch Gradio interface\n",
        "gr.Interface(\n",
        "    fn=predict_yards,\n",
        "    inputs=[\n",
        "        gr.Dropdown([\"Linear Regression\", \"Random Forest\", \"XGBoost\"], label=\"Choose Model\"),\n",
        "        gr.Textbox(label=\"Player Height (e.g., 6-2)\"),\n",
        "        gr.Number(label=\"Player Weight (lbs)\"),\n",
        "        gr.Number(label=\"Player Age\"),\n",
        "        gr.Number(label=\"Distance to First Down\"),\n",
        "        gr.Number(label=\"Defenders in the Box\"),\n",
        "        gr.Dropdown(stadium_types, label=\"Stadium Type\"),\n",
        "        gr.Dropdown(turfs, label=\"Turf Type\"),\n",
        "        gr.Dropdown(play_directions, label=\"Play Direction\"),\n",
        "        gr.Dropdown(formations, label=\"Offense Formation\"),\n",
        "        gr.Number(label=\"Temperature (°F)\"),\n",
        "        gr.Number(label=\"Humidity (%)\"),\n",
        "        gr.Number(label=\"Wind Speed (mph)\")\n",
        "    ],\n",
        "    outputs=[\n",
        "        gr.Number(label=\"Predicted Yards Gained\"),\n",
        "        gr.Textbox(label=\"Model Evaluation Metrics\", lines=6, max_lines=10),\n",
        "        gr.Plot(label=\"Predicted vs Actual Yards\"),\n",
        "        gr.Plot(label=\"Domain Accuracy Metrics\")\n",
        "    ],\n",
        "    title=\"🏈 NFL Rushing Yard Predictor\",\n",
        "    description=\"Predict rushing yards using player, formation, and weather metadata. Visualize model performance with domain-specific metrics.\"\n",
        ").launch()"
      ],
      "metadata": {
        "colab": {
          "base_uri": "https://localhost:8080/",
          "height": 715
        },
        "id": "aKSz9MRSgXa6",
        "outputId": "163af4c8-760d-4e1c-bdd1-5aa35fdfc861"
      },
      "execution_count": 68,
      "outputs": [
        {
          "output_type": "stream",
          "name": "stderr",
          "text": [
            "/usr/local/lib/python3.12/dist-packages/gradio/utils.py:1052: UserWarning: Expected 14 arguments for function <function predict_yards at 0x7fb9abe2f7e0>, received 13.\n",
            "  warnings.warn(\n",
            "/usr/local/lib/python3.12/dist-packages/gradio/utils.py:1056: UserWarning: Expected at least 14 arguments for function <function predict_yards at 0x7fb9abe2f7e0>, received 13.\n",
            "  warnings.warn(\n"
          ]
        },
        {
          "output_type": "stream",
          "name": "stdout",
          "text": [
            "It looks like you are running Gradio on a hosted Jupyter notebook, which requires `share=True`. Automatically setting `share=True` (you can turn this off by setting `share=False` in `launch()` explicitly).\n",
            "\n",
            "Colab notebook detected. To show errors in colab notebook, set debug=True in launch()\n",
            "* Running on public URL: https://98213282f082909fcb.gradio.live\n",
            "\n",
            "This share link expires in 1 week. For free permanent hosting and GPU upgrades, run `gradio deploy` from the terminal in the working directory to deploy to Hugging Face Spaces (https://huggingface.co/spaces)\n"
          ]
        },
        {
          "output_type": "display_data",
          "data": {
            "text/plain": [
              "<IPython.core.display.HTML object>"
            ],
            "text/html": [
              "<div><iframe src=\"https://98213282f082909fcb.gradio.live\" width=\"100%\" height=\"500\" allow=\"autoplay; camera; microphone; clipboard-read; clipboard-write;\" frameborder=\"0\" allowfullscreen></iframe></div>"
            ]
          },
          "metadata": {}
        },
        {
          "output_type": "execute_result",
          "data": {
            "text/plain": []
          },
          "metadata": {},
          "execution_count": 68
        }
      ]
    }
  ]
}