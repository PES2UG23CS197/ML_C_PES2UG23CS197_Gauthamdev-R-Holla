{
  "cells": [
    {
      "cell_type": "code",
      "execution_count": null,
      "metadata": {
        "id": "LdT57_vrcChi"
      },
      "outputs": [],
      "source": [
        "!pip install pandas numpy scikit-learn matplotlib seaborn lightgbm category_encoders kaggle --quiet"
      ]
    },
    {
      "cell_type": "code",
      "execution_count": null,
      "metadata": {
        "id": "651V8R-ncWSv"
      },
      "outputs": [],
      "source": [
        "import pandas as pd\n",
        "import numpy as np\n",
        "import matplotlib.pyplot as plt\n",
        "import seaborn as sns\n",
        "from sklearn.model_selection import train_test_split\n",
        "from sklearn.preprocessing import StandardScaler\n",
        "from sklearn.linear_model import LinearRegression\n",
        "from sklearn.ensemble import RandomForestRegressor\n",
        "from sklearn.metrics import mean_squared_error, mean_absolute_error, r2_score\n",
        "import lightgbm as lgb\n",
        "import category_encoders as ce"
      ]
    },
    {
      "cell_type": "code",
      "execution_count": null,
      "metadata": {
        "id": "mw02a_eq5UaU"
      },
      "outputs": [],
      "source": [
        "# STEP 1 — Upload dataset\n",
        "\n",
        "from google.colab import files\n",
        "files.upload()"
      ]
    },
    {
      "cell_type": "code",
      "execution_count": null,
      "metadata": {
        "id": "0agu2JpQ-S7o"
      },
      "outputs": [],
      "source": [
        "# STEP 2 — Load and inspect data\n",
        "\n",
        "df = pd.read_csv(\"train.csv\", low_memory=False)\n",
        "print(\"Shape:\", df.shape)\n",
        "df.head()\n",
        "\n",
        "# Keep relevant metadata columns\n",
        "cols = [\n",
        "    \"GameId\", \"PlayId\", \"Team\", \"YardLine\", \"Quarter\", \"Down\", \"Distance\",\n",
        "    \"DefendersInTheBox\", \"Temperature\", \"Humidity\", \"WindSpeed\", \"PlayDirection\",\n",
        "    \"HomeTeamAbbr\", \"VisitorTeamAbbr\", \"StadiumType\", \"Turf\", \"Yards\"\n",
        "]\n",
        "df = df[cols]\n",
        "\n",
        "print(\"Columns:\", df.columns.tolist())"
      ]
    },
    {
      "cell_type": "code",
      "execution_count": null,
      "metadata": {
        "id": "uP28hyr3-4yL"
      },
      "outputs": [],
      "source": [
        "# STEP 3 — Data Cleaning (Fixed)\n",
        "\n",
        "# 1. Clean WindSpeed column\n",
        "def clean_windspeed(val):\n",
        "    if pd.isna(val):\n",
        "        return np.nan\n",
        "    val = str(val).lower().replace(\"mph\", \"\").strip()\n",
        "    # Handle cases like \"8.0\" or \"8 - 10\"\n",
        "    if \"-\" in val:\n",
        "        parts = val.split(\"-\")\n",
        "        try:\n",
        "            nums = [float(p.strip()) for p in parts if p.strip().replace('.', '', 1).isdigit()]\n",
        "            return np.mean(nums)\n",
        "        except:\n",
        "            return np.nan\n",
        "    # Handle numeric values\n",
        "    try:\n",
        "        return float(val)\n",
        "    except:\n",
        "        return np.nan\n",
        "\n",
        "df[\"WindSpeed\"] = df[\"WindSpeed\"].apply(clean_windspeed)\n",
        "\n",
        "# 2. Fill missing numeric values\n",
        "df[\"DefendersInTheBox\"] = df[\"DefendersInTheBox\"].fillna(df[\"DefendersInTheBox\"].median())\n",
        "df[\"Temperature\"] = df[\"Temperature\"].fillna(df[\"Temperature\"].median())\n",
        "df[\"Humidity\"] = df[\"Humidity\"].fillna(df[\"Humidity\"].median())\n",
        "df[\"WindSpeed\"] = df[\"WindSpeed\"].fillna(df[\"WindSpeed\"].median())\n",
        "\n",
        "# 3. Fill missing categorical values\n",
        "df[\"StadiumType\"] = df[\"StadiumType\"].fillna(\"Unknown\")\n",
        "df[\"Turf\"] = df[\"Turf\"].fillna(\"Unknown\")\n",
        "\n",
        "# 4. Drop any rows with missing target (Yards)\n",
        "df = df.dropna(subset=[\"Yards\"])\n",
        "\n",
        "print(\"Cleaning done!\")\n",
        "print(df[[\"Temperature\", \"Humidity\", \"WindSpeed\"]].describe())\n"
      ]
    },
    {
      "cell_type": "code",
      "execution_count": null,
      "metadata": {
        "id": "fRX8rNM8_XbK"
      },
      "outputs": [],
      "source": [
        "# STEP 4 — Feature Engineering\n",
        "\n",
        "# Categorical cleanup\n",
        "# Simplify categorical columns\n",
        "cat_cols = [\"Team\", \"PlayDirection\", \"HomeTeamAbbr\", \"VisitorTeamAbbr\", \"StadiumType\", \"Turf\"]\n",
        "\n",
        "# Derived features\n",
        "df[\"IsGoalToGo\"] = (df[\"YardLine\"] <= 10).astype(int)\n",
        "df[\"IsHomeTeam\"] = (df[\"Team\"] == df[\"HomeTeamAbbr\"]).astype(int)\n",
        "df[\"IsOutdoor\"] = df[\"StadiumType\"].str.contains(\"Out\", case=False).astype(int)\n",
        "df[\"IsGrass\"] = df[\"Turf\"].str.contains(\"Grass\", case=False).astype(int)\n",
        "\n",
        "# Simplify weather effects\n",
        "def temp_bucket(temp):\n",
        "    if temp < 40: return \"Cold\"\n",
        "    elif temp < 70: return \"Mild\"\n",
        "    else: return \"Hot\"\n",
        "df[\"TempBucket\"] = df[\"Temperature\"].apply(temp_bucket)\n",
        "\n",
        "# Drop unneeded columns\n",
        "df = df.drop([\"GameId\", \"PlayId\"], axis=1)\n",
        "\n",
        "# Encode categorical features\n",
        "encoder = ce.OrdinalEncoder(cols=cat_cols + [\"TempBucket\"])\n",
        "df = encoder.fit_transform(df)"
      ]
    },
    {
      "cell_type": "code",
      "execution_count": null,
      "metadata": {
        "id": "lQRX97TB_kWA"
      },
      "outputs": [],
      "source": [
        "# STEP 5 — Exploratory Analysis\n",
        "\n",
        "plt.figure(figsize=(6,4))\n",
        "sns.histplot(df[\"Yards\"], bins=30, kde=True)\n",
        "plt.title(\"Distribution of Yards Gained\")\n",
        "plt.show()"
      ]
    },
    {
      "cell_type": "code",
      "execution_count": null,
      "metadata": {
        "id": "2IKTcbis_rF1"
      },
      "outputs": [],
      "source": [
        "# STEP 6 — Prepare Data for Modeling\n",
        "\n",
        "X = df.drop(\"Yards\", axis=1)\n",
        "y = df[\"Yards\"]\n",
        "\n",
        "X_train, X_test, y_train, y_test = train_test_split(X, y, test_size=0.2, random_state=42)\n",
        "\n",
        "scaler = StandardScaler()\n",
        "X_train_scaled = scaler.fit_transform(X_train)\n",
        "X_test_scaled = scaler.transform(X_test)"
      ]
    },
    {
      "cell_type": "code",
      "execution_count": null,
      "metadata": {
        "id": "7GxIt_z8_yRL"
      },
      "outputs": [],
      "source": [
        "# STEP 7 — Train Regression Models\n",
        "\n",
        "# Linear Regression\n",
        "lin_model = LinearRegression()\n",
        "lin_model.fit(X_train_scaled, y_train)\n",
        "print(\"Linear Regression model trained.\")\n",
        "\n",
        "# Random Forest\n",
        "rf_model = RandomForestRegressor(n_estimators=100, random_state=42)\n",
        "rf_model.fit(X_train, y_train)\n",
        "print(\"Random Forest model trained.\")\n",
        "\n",
        "# LightGBM\n",
        "lgb_model = lgb.LGBMRegressor(\n",
        "    n_estimators=300,\n",
        "    learning_rate=0.05,\n",
        "    random_state=42,\n",
        "    verbose=-1  # Suppresses all training logs\n",
        ")\n",
        "lgb_model.fit(X_train, y_train)\n",
        "print(\"LightGBM model trained.\")"
      ]
    },
    {
      "cell_type": "code",
      "execution_count": null,
      "metadata": {
        "id": "h7ucYh3eHPeX"
      },
      "outputs": [],
      "source": [
        "# STEP 8 — Model Evaluation\n",
        "\n",
        "def evaluate(model, X_test, y_test, name):\n",
        "    preds = model.predict(X_test)\n",
        "    rmse = np.sqrt(mean_squared_error(y_test, preds))\n",
        "    mae = mean_absolute_error(y_test, preds)\n",
        "    r2 = r2_score(y_test, preds)\n",
        "\n",
        "    within1 = np.mean(np.abs(y_test - preds) <= 1)\n",
        "    within2 = np.mean(np.abs(y_test - preds) <= 2)\n",
        "    within4 = np.mean(np.abs(y_test - preds) <= 4)\n",
        "\n",
        "    print(f\"\\nModel: {name}\")\n",
        "    print(f\"RMSE: {rmse:.3f}\")\n",
        "    print(f\"MAE: {mae:.3f}\")\n",
        "    print(f\"R²: {r2:.3f}\")\n",
        "    print(f\"Within ±1 yd: {within1*100:.1f}% | ±2 yd: {within2*100:.1f}% | ±4 yd: {within4*100:.1f}%\")\n",
        "    return preds\n",
        "\n",
        "preds_lin = evaluate(lin_model, X_test_scaled, y_test, \"Linear Regression\")\n",
        "preds_rf = evaluate(rf_model, X_test, y_test, \"Random Forest\")\n",
        "preds_lgb = evaluate(lgb_model, X_test, y_test, \"LightGBM\")"
      ]
    },
    {
      "cell_type": "code",
      "execution_count": null,
      "metadata": {
        "id": "Mw80nO2NHeIv"
      },
      "outputs": [],
      "source": [
        "# STEP 9 — Visualize Results\n",
        "\n",
        "plt.figure(figsize=(6,4))\n",
        "plt.scatter(y_test, preds_rf, alpha=0.3)\n",
        "plt.xlabel(\"Actual Yards\")\n",
        "plt.ylabel(\"Predicted Yards (RF)\")\n",
        "plt.title(\"Predicted vs Actual Yards — Random Forest\")\n",
        "plt.show()\n",
        "\n",
        "# Feature Importance for LightGBM\n",
        "importances = pd.Series(lgb_model.feature_importances_, index=X.columns)\n",
        "importances.nlargest(10).plot(kind='barh', figsize=(6,4))\n",
        "plt.title(\"Top 10 Important Features (LightGBM)\")\n",
        "plt.show()"
      ]
    }
  ],
  "metadata": {
    "colab": {
      "provenance": []
    },
    "kernelspec": {
      "display_name": "Python 3",
      "name": "python3"
    },
    "language_info": {
      "name": "python"
    }
  },
  "nbformat": 4,
  "nbformat_minor": 0
}